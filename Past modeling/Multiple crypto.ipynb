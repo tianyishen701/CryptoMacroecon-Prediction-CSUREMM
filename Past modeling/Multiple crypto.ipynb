{
 "cells": [
  {
   "cell_type": "code",
   "execution_count": 2,
   "id": "eb37c0b8",
   "metadata": {},
   "outputs": [],
   "source": [
    "import pandas as pd\n",
    "import statsmodels.api as sm\n",
    "import matplotlib.pyplot as plt"
   ]
  },
  {
   "cell_type": "code",
   "execution_count": 3,
   "id": "fc475ccd",
   "metadata": {},
   "outputs": [],
   "source": [
    "# Load data\n",
    "df = pd.read_excel('data/Monthly Mastersheet.xlsx')\n",
    "\n",
    "# Ensure date is datetime and set index\n",
    "df['Month'] = pd.to_datetime(df['Month'])\n",
    "df.set_index('Month', inplace=True)"
   ]
  },
  {
   "cell_type": "code",
   "execution_count": null,
   "id": "f57bf15d",
   "metadata": {},
   "outputs": [
    {
     "name": "stdout",
     "output_type": "stream",
     "text": [
      "                                     Assets       R^2  Adj. R^2  N Obs\n",
      "0               Bitcoin + Tether + Ethereum  0.543453  0.527148     88\n",
      "1    Bitcoin + Tether + Ethereum + Dogecoin  0.548692  0.526942     88\n",
      "2         Bitcoin + Tether + XRP + Ethereum  0.547732  0.525936     88\n",
      "3              Tether + Ethereum + Dogecoin  0.540496  0.524085     88\n",
      "4                   Tether + XRP + Ethereum  0.540321  0.523904     88\n",
      "..                                      ...       ...       ...    ...\n",
      "250                                 Bitcoin  0.140886  0.130896     88\n",
      "251                      Bitcoin + Dogecoin  0.141449  0.121248     88\n",
      "252                                     XRP  0.112965  0.102651     88\n",
      "253                          XRP + Dogecoin  0.116514  0.095726     88\n",
      "254                                Dogecoin  0.025203  0.013868     88\n",
      "\n",
      "[255 rows x 4 columns]\n"
     ]
    }
   ],
   "source": [
    "import pandas as pd\n",
    "import statsmodels.api as sm\n",
    "from itertools import combinations\n",
    "\n",
    "# Clean column names\n",
    "df.columns = df.columns.str.strip()\n",
    "\n",
    "# Crypto assets\n",
    "crypto_assets = ['Bitcoin', 'Tether', 'Litecoin', 'XRP', 'Ethereum', 'Dogecoin', 'Cardano', 'USD Coin']\n",
    "\n",
    "# Compute Lagged Log Vol for each\n",
    "for asset in crypto_assets:\n",
    "    df[f'Lagged_LogVol_{asset}'] = df[asset].shift(1)\n",
    "\n",
    "# Results storage\n",
    "results = []\n",
    "\n",
    "# Try all combinations of crypto assets (1 to all)\n",
    "for k in range(1, len(crypto_assets) + 1):\n",
    "    for combo in combinations(crypto_assets, k):\n",
    "        lagged_cols = [f'Lagged_LogVol_{asset}' for asset in combo]\n",
    "        temp_df = df[['GDP'] + lagged_cols].dropna()\n",
    "\n",
    "        if len(temp_df) < 10:\n",
    "            continue\n",
    "\n",
    "        y = temp_df['GDP']\n",
    "        X = sm.add_constant(temp_df[lagged_cols])\n",
    "\n",
    "        model = sm.OLS(y, X).fit()\n",
    "\n",
    "        results.append({\n",
    "            'Assets': combo,\n",
    "            'R^2': model.rsquared,\n",
    "            'Adj. R^2': model.rsquared_adj,\n",
    "            'N Obs': len(temp_df)\n",
    "        })\n",
    "\n",
    "# Display results sorted by Adjusted R²\n",
    "results_df = pd.DataFrame(results).sort_values(by='Adj. R^2', ascending=False).reset_index(drop=True)\n",
    "\n",
    "# Optional: format assets as a string\n",
    "results_df['Assets'] = results_df['Assets'].apply(lambda x: ' + '.join(x))\n",
    "\n",
    "print(results_df)\n"
   ]
  }
 ],
 "metadata": {
  "kernelspec": {
   "display_name": "base",
   "language": "python",
   "name": "python3"
  },
  "language_info": {
   "codemirror_mode": {
    "name": "ipython",
    "version": 3
   },
   "file_extension": ".py",
   "mimetype": "text/x-python",
   "name": "python",
   "nbconvert_exporter": "python",
   "pygments_lexer": "ipython3",
   "version": "3.11.5"
  }
 },
 "nbformat": 4,
 "nbformat_minor": 5
}
