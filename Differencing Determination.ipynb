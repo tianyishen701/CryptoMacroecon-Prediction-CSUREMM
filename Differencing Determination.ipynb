{
 "cells": [
  {
   "cell_type": "markdown",
   "id": "14de2675",
   "metadata": {},
   "source": [
    "# Differencing Determination"
   ]
  },
  {
   "cell_type": "code",
   "execution_count": 1,
   "id": "add700d8",
   "metadata": {},
   "outputs": [],
   "source": [
    "import pandas as pd\n",
    "import statsmodels.api as sm\n",
    "import matplotlib.pyplot as plt"
   ]
  },
  {
   "cell_type": "code",
   "execution_count": null,
   "id": "b787bb1f",
   "metadata": {},
   "outputs": [
    {
     "name": "stdout",
     "output_type": "stream",
     "text": [
      "             Bitcoin   Tether  Litecoin       XRP  Ethereum  Dogecoin  \\\n",
      "Month                                                                   \n",
      "2017-09-01 -1.398923 -3.82830  -1.02849 -0.898590 -1.320943 -1.405018   \n",
      "2017-10-01 -1.339539 -3.73861  -0.77151 -1.145490 -0.837982 -0.464897   \n",
      "2017-11-01 -1.622995 -4.01951  -1.44830 -1.192080 -1.837874 -1.371050   \n",
      "2017-12-01 -1.267670 -2.55687  -1.11575 -1.254630 -1.310402 -0.702095   \n",
      "2018-01-01 -0.892511 -2.75193  -0.24164  0.038975 -0.811280 -0.334438   \n",
      "\n",
      "            Cardano  USD Coin    VIX   MOVE  LFPR      CPI     r      M1  \\\n",
      "Month                                                                      \n",
      "2017-09-01      NaN       NaN  10.59  52.88  63.1  246.819  1.15  3535.6   \n",
      "2017-10-01      NaN       NaN   9.51  51.15  62.7  246.663  1.15  3615.0   \n",
      "2017-11-01      NaN       NaN  10.18  46.83  62.7  246.669  1.16  3587.6   \n",
      "2017-12-01      NaN       NaN  11.28  46.60  62.7  246.524  1.30  3630.5   \n",
      "2018-01-01      NaN       NaN  11.04  57.20  62.7  247.867  1.41  3673.4   \n",
      "\n",
      "              GDP        IM        EX     CC  CC Monthly % Change  \\\n",
      "Month                                                               \n",
      "2017-09-01  60099  2916.022  2535.501   95.1             0.058885   \n",
      "2017-10-01  60674  3034.004  2479.107  100.7            -0.021847   \n",
      "2017-11-01  60674  3034.004  2479.107   98.5            -0.026396   \n",
      "2017-12-01  60674  3034.004  2479.107   95.9            -0.002086   \n",
      "2018-01-01  61093  3093.299  2517.268   95.7             0.041797   \n",
      "\n",
      "            Bitcoin Price  \n",
      "Month                      \n",
      "2017-09-01         4735.1  \n",
      "2017-10-01         4360.6  \n",
      "2017-11-01         6451.2  \n",
      "2017-12-01         9946.8  \n",
      "2018-01-01        13850.4  \n"
     ]
    }
   ],
   "source": [
    "# Load data\n",
    "df = pd.read_excel('data/Monthly Mastersheet.xlsx')\n",
    "\n",
    "# Ensure date is datetime and set index\n",
    "df['Month'] = pd.to_datetime(df['Month'])\n",
    "df.set_index('Month', inplace=True)\n",
    "df.columns = df.columns.str.strip() #strip spaces in names"
   ]
  },
  {
   "cell_type": "code",
   "execution_count": 3,
   "id": "c40c195f",
   "metadata": {},
   "outputs": [
    {
     "name": "stdout",
     "output_type": "stream",
     "text": [
      "Bitcoin: p-value = 1.0920519383748658e-07\n",
      "Tether: p-value = 0.8239483673421706\n",
      "Litecoin: p-value = 6.988828950914855e-08\n",
      "XRP: p-value = 0.15677767022854167\n",
      "Ethereum: p-value = 0.19481860779486204\n",
      "Dogecoin: p-value = 0.00021364853735330477\n",
      "Cardano: p-value = 0.36553877495692955\n",
      "USD Coin: p-value = 0.010444507366033444\n",
      "VIX: p-value = 0.0005140917362464705\n",
      "MOVE: p-value = 0.39943677654417753\n",
      "LFPR: p-value = 0.08227483714715461\n",
      "CPI: p-value = 0.9044645691224062\n",
      "r: p-value = 0.2221536107412167\n",
      "M1: p-value = 0.6682267419637112\n",
      "GDP: p-value = 0.6825705492402224\n",
      "IM: p-value = 0.9431792986923209\n",
      "EX: p-value = 0.8691521189557727\n",
      "CC: p-value = 0.6282641357619623\n",
      "CC Monthly % Change: p-value = 2.125797825164221e-07\n",
      "Bitcoin Price: p-value = 0.9720747605868902\n"
     ]
    }
   ],
   "source": [
    "from statsmodels.tsa.stattools import adfuller\n",
    "\n",
    "for col in df.columns:\n",
    "    result = adfuller(df[col].dropna())\n",
    "    print(f'{col}: p-value = {result[1]}')"
   ]
  },
  {
   "cell_type": "markdown",
   "id": "f5008d73",
   "metadata": {},
   "source": [
    "p>0.05, Tether, XRP, Ethereum, Cardano, MOVE, LFPR, CPI, r, M1, GDP, IM, EX, CC need to be diffed"
   ]
  },
  {
   "cell_type": "code",
   "execution_count": 4,
   "id": "1137000f",
   "metadata": {},
   "outputs": [
    {
     "name": "stdout",
     "output_type": "stream",
     "text": [
      "ADF test for Tether: p-value = 0.0000\n",
      "ADF test for XRP: p-value = 0.0000\n",
      "ADF test for Ethereum: p-value = 0.0000\n",
      "ADF test for Cardano: p-value = 0.0000\n",
      "ADF test for MOVE: p-value = 0.0000\n",
      "ADF test for LFPR: p-value = 0.0000\n",
      "ADF test for CPI: p-value = 0.5877\n",
      "ADF test for r: p-value = 0.1568\n",
      "ADF test for M1: p-value = 0.0000\n",
      "ADF test for GDP: p-value = 0.0000\n",
      "ADF test for IM: p-value = 0.0000\n",
      "ADF test for EX: p-value = 0.0000\n",
      "ADF test for CC: p-value = 0.0000\n",
      "ADF test for Bitcoin Price: p-value = 0.0000\n"
     ]
    }
   ],
   "source": [
    "def check_stationarity(series):\n",
    "    result = adfuller(series.dropna())\n",
    "    p_value = result[1]\n",
    "    print(f\"ADF test for {series.name}: p-value = {p_value:.4f}\")\n",
    "\n",
    "list=['Tether', 'XRP', 'Ethereum', 'Cardano', 'MOVE', 'LFPR', 'CPI', 'r', 'M1', 'GDP', 'IM', 'EX', 'CC','Bitcoin Price']\n",
    "for l in list:\n",
    "    check_stationarity(df[l].diff())  # Expect p < 0.05"
   ]
  },
  {
   "cell_type": "code",
   "execution_count": 5,
   "id": "77f67964",
   "metadata": {},
   "outputs": [
    {
     "name": "stdout",
     "output_type": "stream",
     "text": [
      "ADF test for CPI: p-value = 0.0000\n",
      "ADF test for r: p-value = 0.0000\n"
     ]
    }
   ],
   "source": [
    "list=['CPI', 'r']\n",
    "for l in list:\n",
    "    check_stationarity((df[l].diff()).diff())"
   ]
  },
  {
   "cell_type": "markdown",
   "id": "7b98afee",
   "metadata": {},
   "source": [
    "Stationarity order results:\n",
    "Bitcoin: 0\n",
    "Tether: 1\n",
    "Litecoin: 0\n",
    "XRP: 1\n",
    "Ethereum: 1\n",
    "Dogecoin: 0\n",
    "Cardano: 1\n",
    "USD Coin: 0\n",
    "VIX: 0\n",
    "MOVE: 1\n",
    "LFPR: 1\n",
    "CPI: 2\n",
    "r: 2\n",
    "M1: 1\n",
    "GDP: 1\n",
    "IM: 1\n",
    "EX: 1\n",
    "CC: 1\n",
    "CC Monthly % Change: 0\n",
    "Bitcoin price: 1"
   ]
  },
  {
   "cell_type": "code",
   "execution_count": 6,
   "id": "62c8d0d6",
   "metadata": {},
   "outputs": [],
   "source": [
    "df['D1_Ethereum']=df['Ethereum'].diff()\n",
    "df['D1_XRP']=df['XRP'].diff()\n",
    "df['D1_Cardano']=df['Cardano'].diff()\n",
    "df['D1_M1']=df['M1'].diff()\n",
    "df['D1_LFPR']=df['LFPR'].diff()\n",
    "df['D1_GDP']=df['GDP'].diff()\n",
    "df['D1_EX']=df['EX'].diff()\n",
    "df['D1_IM']=df['IM'].diff()\n",
    "\n",
    "\n",
    "# var_columns = [\n",
    "#     'Bitcoin', 'Litecoin', 'Dogecoin', 'VIX', 'CC Monthly % Change',\n",
    "#     'D1_Ethereum', 'D1_XRP', 'D1_Cardano',\n",
    "#     'D1_M1', 'D1_LFPR', 'D1_GDP', 'D1_EX', 'D1_IM'\n",
    "# ]\n",
    "\n",
    "var_columns = [\n",
    "    'Bitcoin', 'VIX',\n",
    "    'D1_M1', 'D1_LFPR', 'D1_GDP',\n",
    "]\n",
    "\n",
    "var_data = df[var_columns].dropna()\n"
   ]
  }
 ],
 "metadata": {
  "kernelspec": {
   "display_name": "base",
   "language": "python",
   "name": "python3"
  },
  "language_info": {
   "codemirror_mode": {
    "name": "ipython",
    "version": 3
   },
   "file_extension": ".py",
   "mimetype": "text/x-python",
   "name": "python",
   "nbconvert_exporter": "python",
   "pygments_lexer": "ipython3",
   "version": "3.11.5"
  }
 },
 "nbformat": 4,
 "nbformat_minor": 5
}
