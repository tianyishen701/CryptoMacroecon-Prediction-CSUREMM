{
 "cells": [
  {
   "cell_type": "markdown",
   "id": "14de2675",
   "metadata": {},
   "source": [
    "# Differencing Determination"
   ]
  },
  {
   "cell_type": "code",
   "execution_count": null,
   "id": "9fda91c9",
   "metadata": {},
   "outputs": [],
   "source": []
  }
 ],
 "metadata": {
  "language_info": {
   "name": "python"
  }
 },
 "nbformat": 4,
 "nbformat_minor": 5
}
